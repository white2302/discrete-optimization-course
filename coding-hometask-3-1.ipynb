{
 "cells": [
  {
   "cell_type": "markdown",
   "metadata": {
    "deletable": true,
    "editable": true
   },
   "source": [
    "# Задание по курсу «Дискретная оптимизация», МФТИ, весна 2017"
   ]
  },
  {
   "cell_type": "markdown",
   "metadata": {
    "collapsed": true,
    "deletable": true,
    "editable": true
   },
   "source": [
    "## Задача 3-1. Задача TSP: инкрементальные алгоритмы.\n",
    "\n",
    "В этой задаче Вам предлагается сравнить алгоритмы Nearest Neighbour и Nearest Insertion в задаче Euclidean TSP.\n",
    "\n",
    "**Даны:**\n",
    "* Координаты точек плоскости, являющихся вершинами графа.\n",
    "\n",
    "**Найти:**\n",
    "* Перестановку вершин, задающих минимальный по длине гамильтонов цикл в графе.\n",
    "\n",
    "Сделайте следующее:\n",
    "* Скачайте файл [`tsp-instances.zip`](https://github.com/dainiak/discrete-optimization-course/raw/master/tsp-instances.zip) и разархивируйте из него файлы со входами задачи TSP.\n",
    "* Реализуйте функции `solve_tsp_nearest_neighbour` и `solve_tsp_nearest_insertion`.\n",
    "* Запустите функцию `run_all()`, чтобы протестировать свой код и сравнить качество решений, получаемых Nearest Neighbour и Nearest Insertion. Сильно ли они отличаются? Запишите свои качественные выводы в 1-2 предложениях в последней ячейке ipynb-файла."
   ]
  },
  {
   "cell_type": "code",
   "execution_count": 1,
   "metadata": {
    "collapsed": true,
    "deletable": true,
    "editable": true
   },
   "outputs": [],
   "source": [
    "def read_tsp_instance(filename):\n",
    "    with open(filename, 'r') as file:\n",
    "        coordinates = []\n",
    "        for line in file:\n",
    "            line = line.strip().lower()\n",
    "            if line.startswith('dimension'):\n",
    "                coordinates = [(0,0)] * int(line.split()[-1])\n",
    "            tokens = line.split()\n",
    "            if len(tokens) == 3 and tokens[0].isdecimal():\n",
    "                tokens = line.split()\n",
    "                coordinates[int(tokens[0])-1] = tuple(map(float, tokens[1:]))\n",
    "        return coordinates\n",
    "\n",
    "from math import sqrt\n",
    "\n",
    "def euclidean_distance(point1, point2):\n",
    "    return sqrt((point1[0]-point2[0]) ** 2 + (point1[1]-point2[1]) ** 2)\n",
    "    \n",
    "def calculate_tour_length(instance, permutation):\n",
    "    n = len(permutation)\n",
    "    return sum(euclidean_distance(instance[permutation[i]], instance[permutation[(i+1) % n]]) for i in range(len(permutation)))"
   ]
  },
  {
   "cell_type": "code",
   "execution_count": 2,
   "metadata": {
    "collapsed": true,
    "deletable": true,
    "editable": true
   },
   "outputs": [],
   "source": [
    "def solve_tsp_nearest_neighbour(instance):\n",
    "    n = len(instance)\n",
    "    perm = [0]\n",
    "    used = [False] * n\n",
    "    used[0] = True\n",
    "    last = 0\n",
    "    \n",
    "    for it in range(n - 1):\n",
    "        best = -1\n",
    "        for i in range(n):\n",
    "            if (used[i] == True):\n",
    "                continue\n",
    "            \n",
    "            if (best == -1 or (euclidean_distance(instance[last], instance[i]) < euclidean_distance(instance[last], instance[best]))):\n",
    "                best = i\n",
    "                \n",
    "        used[i] = True\n",
    "        perm.append(i)\n",
    "        last = i\n",
    "    return perm"
   ]
  },
  {
   "cell_type": "code",
   "execution_count": 3,
   "metadata": {
    "collapsed": true,
    "deletable": true,
    "editable": true
   },
   "outputs": [],
   "source": [
    "def solve_tsp_nearest_insertion(instance):\n",
    "    n = len(instance)\n",
    "    perm = [0]\n",
    "    used = [False] * n\n",
    "    used[0] = True\n",
    "    \n",
    "    for it in range(n - 2):\n",
    "        best = -1\n",
    "        best_dst = 1e18\n",
    "        \n",
    "        for i in range(n):\n",
    "            if (used[i]):\n",
    "                continue\n",
    "            \n",
    "            dst = 1e18\n",
    "            \n",
    "            for j in range(len(perm)):\n",
    "                dst = min(dst, euclidean_distance(instance[i], instance[perm[j]]))\n",
    "                \n",
    "            if (dst < best_dst):\n",
    "                best = i\n",
    "                best_dst = dst\n",
    "        \n",
    "        if (len(perm) == 1):\n",
    "            perm.append(best)\n",
    "            continue\n",
    "        \n",
    "        pos = 0;\n",
    "        best_dst = 1e18\n",
    "        \n",
    "        for i in range(len(perm)):\n",
    "            now_dst = euclidean_distance(instance[perm[i]], instance[best])\n",
    "            now_dst += euclidean_distance(instance[perm[(i + 1) % len(perm)]], instance[best])\n",
    "            now_dst -= euclidean_distance(instance[perm[i]], instance[perm[(i + 1) % len(perm)]])\n",
    "            \n",
    "            if (now_dst < best_dst):\n",
    "                best_dst = now_dst\n",
    "                pos = i\n",
    "                \n",
    "        perm = perm[0:(pos + 1)] + [best] + perm[(pos + 1):len(perm)]\n",
    "    return perm"
   ]
  },
  {
   "cell_type": "code",
   "execution_count": 4,
   "metadata": {
    "collapsed": false,
    "deletable": true,
    "editable": true
   },
   "outputs": [],
   "source": [
    "import time\n",
    "from os.path import exists\n",
    "\n",
    "def run_all():\n",
    "    instance_filenames = ['d198.tsp', 'd493.tsp', 'd657.tsp', 'd2103.tsp', 'pr107.tsp', 'pr152.tsp', 'pr439.tsp']\n",
    "    for filename in instance_filenames:\n",
    "        if not exists(filename):\n",
    "            print('File not found: “{}”. Skipping this instance.'.format(filename))\n",
    "            continue\n",
    "        instance = read_tsp_instance(filename)\n",
    "        print('Solving instance {}…'.format(filename), end='')\n",
    "        time_start = time.monotonic()\n",
    "        quality_nn = calculate_tour_length(instance, solve_tsp_nearest_neighbour(instance))\n",
    "        time_nn = time.monotonic()-time_start\n",
    "        time_start = time.monotonic()\n",
    "        quality_ni = calculate_tour_length(instance, solve_tsp_nearest_insertion(instance))\n",
    "        time_ni = time.monotonic()-time_start\n",
    "        print(' done in {:.2} seconds with tour length {} using NN and in {:.2} seconds with tour length {} using NI'.format(time_nn, int(quality_nn), time_ni, int(quality_ni)))"
   ]
  },
  {
   "cell_type": "code",
   "execution_count": 5,
   "metadata": {
    "collapsed": false,
    "deletable": true,
    "editable": true
   },
   "outputs": [
    {
     "name": "stdout",
     "output_type": "stream",
     "text": [
      "Solving instance d198.tsp… done in 0.037 seconds with tour length 8158 using NN and in 2.1 seconds with tour length 2277 using NI\n",
      "Solving instance d493.tsp… done in 0.19 seconds with tour length 7764 using NN and in 3e+01 seconds with tour length 3828 using NI\n",
      "Solving instance d657.tsp… done in 0.33 seconds with tour length 8875 using NN and in 7.5e+01 seconds with tour length 2633 using NI\n",
      "Solving instance d2103.tsp… done in 4.1 seconds with tour length 10408 using NN and in 2.6e+03 seconds with tour length 2201 using NI\n",
      "Solving instance pr107.tsp… done in 0.0084 seconds with tour length 20771 using NN and in 0.33 seconds with tour length 400 using NI\n",
      "Solving instance pr152.tsp… done in 0.018 seconds with tour length 27438 using NN and in 0.99 seconds with tour length 1177 using NI\n",
      "Solving instance pr439.tsp… done in 0.17 seconds with tour length 13968 using NN and in 2.3e+01 seconds with tour length 360 using NI\n"
     ]
    }
   ],
   "source": [
    "run_all()"
   ]
  },
  {
   "cell_type": "markdown",
   "metadata": {
    "collapsed": true,
    "deletable": true,
    "editable": true
   },
   "source": [
    "## Выводы\n",
    "Как мы знаем второе решение хуже первого ассимптотически, но по качеству на файлах типа d работает примерно в 4-5 раз лучше, а на файлах типа pr работает лучше примерно в 30 раз.\n",
    "Эти тесты показывают нам что второе решение заведомо лучше первого, и есть тесты на которых ответ отличается во много раз."
   ]
  }
 ],
 "metadata": {
  "kernelspec": {
   "display_name": "Python 3",
   "language": "python",
   "name": "python3"
  },
  "language_info": {
   "codemirror_mode": {
    "name": "ipython",
    "version": 3
   },
   "file_extension": ".py",
   "mimetype": "text/x-python",
   "name": "python",
   "nbconvert_exporter": "python",
   "pygments_lexer": "ipython3",
   "version": "3.6.0"
  }
 },
 "nbformat": 4,
 "nbformat_minor": 2
}
