{
 "cells": [
  {
   "cell_type": "markdown",
   "metadata": {},
   "source": [
    "# Задание по курсу «Дискретная оптимизация», МФТИ, весна 2017"
   ]
  },
  {
   "cell_type": "markdown",
   "metadata": {},
   "source": [
    "## Задача 2-1. Применяем простейший локальный поиск.\n",
    "\n",
    "В этой задаче Вам предлагается попробовать стандартную технику локального поиска (local search) в применении к задаче о сбалансированном разбиении графа. Мы будем рассматривать безвесовый вариант задачи с параметром балансировки $\\alpha=\\frac{1}{2}$:\n",
    "\n",
    "**Даны:**\n",
    "* $G=(V,E)$ — граф без весов на рёбрах\n",
    "\n",
    "**Найти:**\n",
    "* Разбиение $V=V'\\sqcup V''$, такое, что $V'=\\lfloor |V|/2 \\rfloor$ и число рёбер между $V'$ и $V''$ минимально возможное.\n",
    "\n",
    "Сделайте следующее:\n",
    "* [Скачайте](http://mat.gsia.cmu.edu/COLOR/instances.html#XXMYC) файлы mycielX.col  (`for X in range(1,8)`).  (Если интересно, откуда такие графы берутся и чем интересны, см. конструкцию Зыкова—Мыцельского [здесь](https://docs.com/dainiak/3327).)\n",
    "* Для каждого из графов найдите локальным поиском локально минимальное (по количеству рёбер между частями) разбиение вершин графа на две части, мощности которых отличаются не более чем на единицу. \n",
    "* Ваша функция `basic_local_search` должна принимать на вход граф в формате, предоставляемом функцией `read_col_file`, и возвращать найденное локально минимальное разбиение просто как множество либо список вершин, лежащих в одной любой из двух компонент разбиения."
   ]
  },
  {
   "cell_type": "code",
   "execution_count": 2,
   "metadata": {
    "collapsed": true
   },
   "outputs": [],
   "source": [
    "def read_col_file(filename):\n",
    "    with open(filename, 'r') as file:\n",
    "        vertices, edges = set(), set()\n",
    "        for line in file:\n",
    "            line = line.strip()\n",
    "            if line.startswith('p'):\n",
    "                vertices = set(range(1, int(line.split()[-2]) + 1))\n",
    "            elif line.startswith('e'):\n",
    "                edges.add(tuple(map(int, line.split()[-2:])))\n",
    "        return (vertices, edges)"
   ]
  },
  {
   "cell_type": "code",
   "execution_count": 49,
   "metadata": {
    "collapsed": false
   },
   "outputs": [],
   "source": [
    "import random\n",
    "\n",
    "def get_answer(edges, col):\n",
    "    ans = int(0)\n",
    "    \n",
    "    for i in range(len(edges)):\n",
    "        if (col[edges[i][0]] != col[edges[i][1]]):\n",
    "            ans += 1\n",
    "            \n",
    "    return ans\n",
    "\n",
    "def basic_local_search(graph):    \n",
    "    ver = list(graph[0])\n",
    "    ed = list(graph[1])\n",
    "    col = [0] * (len(ver) + 1)\n",
    "    \n",
    "    a = []\n",
    "    b = []\n",
    "    \n",
    "    for i in range(len(ver)):\n",
    "        if (i < (len(ver) // 2)):\n",
    "            a.append(ver[i])\n",
    "        else:\n",
    "            b.append(ver[i])\n",
    "            col[ver[i]] = 1\n",
    "            \n",
    "    cnt = int(0)\n",
    "    ans = get_answer(ed, col)\n",
    "    \n",
    "    while (cnt < 5000):\n",
    "        k = 1\n",
    "        cnt += 1\n",
    "        random.shuffle(a)\n",
    "        random.shuffle(b)\n",
    "        \n",
    "        for i in range(k):\n",
    "            col[a[i]] = 1\n",
    "            col[b[i]] = 0\n",
    "        \n",
    "        tmp = get_answer(ed, col)\n",
    "        \n",
    "        if (tmp < ans):\n",
    "            cnt = 0\n",
    "            ans = tmp\n",
    "            for i in range(k):\n",
    "                a[i], b[i] = b[i], a[i]\n",
    "        else:\n",
    "            for i in range(k):\n",
    "                col[a[i]] = 0\n",
    "                col[b[i]] = 1\n",
    "    \n",
    "    print(ans)\n",
    "    \n",
    "    return a"
   ]
  },
  {
   "cell_type": "code",
   "execution_count": 50,
   "metadata": {
    "collapsed": false
   },
   "outputs": [
    {
     "name": "stdout",
     "output_type": "stream",
     "text": [
      "8\n",
      "[1, 2, 5, 8, 9]\n",
      "28\n",
      "[10, 4, 15, 16, 5, 3, 2, 8, 13, 6, 14]\n",
      "92\n",
      "[16, 46, 15, 9, 25, 27, 5, 19, 12, 18, 26, 24, 20, 6, 28, 17, 13, 4, 3, 8, 39, 21, 34]\n",
      "295\n",
      "[55, 94, 33, 44, 6, 25, 2, 24, 19, 22, 71, 93, 29, 75, 20, 72, 41, 58, 36, 14, 35, 28, 42, 12, 51, 70, 40, 8, 76, 4, 45, 48, 39, 52, 9, 17, 50, 15, 34, 38, 56, 37, 13, 54, 57, 53, 49]\n",
      "919\n",
      "[144, 31, 77, 19, 190, 41, 36, 150, 53, 97, 103, 72, 119, 85, 3, 83, 62, 108, 86, 44, 140, 109, 147, 146, 101, 13, 117, 22, 118, 34, 26, 129, 60, 24, 49, 123, 6, 51, 141, 99, 98, 88, 100, 57, 29, 152, 75, 69, 65, 153, 124, 96, 54, 142, 61, 40, 25, 106, 189, 30, 38, 155, 35, 128, 2, 91, 42, 165, 39, 94, 28, 76, 66, 14, 50, 8, 105, 55, 64, 15, 78, 45, 148, 89, 37, 17, 67, 33, 149, 56, 87, 80, 120, 10, 145]\n"
     ]
    }
   ],
   "source": [
    "for num in range(3, 8):\n",
    "    print(basic_local_search(read_col_file('myciel' + str(num) + '.col')))\n"
   ]
  }
 ],
 "metadata": {
  "kernelspec": {
   "display_name": "Python 3",
   "language": "python",
   "name": "python3"
  },
  "language_info": {
   "codemirror_mode": {
    "name": "ipython",
    "version": 3
   },
   "file_extension": ".py",
   "mimetype": "text/x-python",
   "name": "python",
   "nbconvert_exporter": "python",
   "pygments_lexer": "ipython3",
   "version": "3.6.0"
  }
 },
 "nbformat": 4,
 "nbformat_minor": 2
}
