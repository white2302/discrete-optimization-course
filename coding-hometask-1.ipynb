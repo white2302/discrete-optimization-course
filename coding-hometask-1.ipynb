{
 "cells": [
  {
   "cell_type": "markdown",
   "metadata": {
    "deletable": true,
    "editable": true
   },
   "source": [
    "# Задание по курсу «Дискретная оптимизация», МФТИ, весна 2017"
   ]
  },
  {
   "cell_type": "markdown",
   "metadata": {
    "deletable": true,
    "editable": true
   },
   "source": [
    "## Задача 1-1\n",
    "## Учимся переводить между decision/evaluation/search на примере Bin Packing\n",
    "\n",
    "**Даны:** \n",
    "* $[w_1, \\dots , w_k], w_i \\in [0, 1]$ — веса грузов  \n",
    "* $n_{\\text{bins}}$ — количество корзин грузоподъемностью 1.\n",
    "\n",
    "Предполагается, что функция `solve_bp_decision(weights, n_bins)` решает «распознавательный» (decision) вариант задачи bin packing. На вход ей подаётся список весов и число корзин. Функция возвращает булевский ответ на вопрос «можно ли заданные веса раскидать по не более чем `n_bins` контейнерам? \n",
    "\n",
    "Напишите содержимое функции `solve_bp_evaluation`, которая возвращает оптимальное число корзин (решает evaluation variant задачи bin packing). \n",
    "\n",
    "Затем напишите содержимое функции `solve_bp_search`, которая возвращает список номеров корзин, которые при каком-нибудь оптимальном распределении присваиваются весам из списка `weights` (корзины нумеруются с единицы). \n",
    "\n",
    "Каждая из следующих функций должна вызывать предыдущую не более чем полиномиальное число раз."
   ]
  },
  {
   "cell_type": "code",
   "execution_count": 47,
   "metadata": {
    "collapsed": false
   },
   "outputs": [],
   "source": [
    "def solve_bp_decision(weights: list, n_bins: int) -> bool:\n",
    "    eps = 1e-7\n",
    "    def able_to_pack(weights: list, bin_capacities) -> bool:\n",
    "        return weights == [] or any( \n",
    "            able_to_pack( weights[:-1], bin_capacities[:i] + [capacity - weights[-1]] + bin_capacities[(i + 1):] ) \n",
    "            for i, capacity in enumerate(bin_capacities) if (capacity > weights[-1] + eps or abs(capacity - weights[-1]) < eps)\n",
    "        )\n",
    "\n",
    "    return able_to_pack( sorted(weights), [1.0] * n_bins )\n",
    "\n",
    "# To test this, run:\n",
    "# solve_bp_decision([0.8, 0.09, 0.4, 0.7], 2)\n",
    "# solve_bp_decision([0.8, 0.09, 0.4, 0.7], 3)"
   ]
  },
  {
   "cell_type": "code",
   "execution_count": 46,
   "metadata": {
    "collapsed": false
   },
   "outputs": [],
   "source": [
    "def solve_bp_evaluation(weights: list) -> int:\n",
    "    l = 0\n",
    "    r = len(weights)\n",
    "    \n",
    "    while (l != r):\n",
    "        m = (l + r) // 2\n",
    "        \n",
    "        if (solve_bp_decision(weights, m)):\n",
    "            r = m\n",
    "        else:\n",
    "            l = m + 1\n",
    "    \n",
    "    return l\n",
    "    \n",
    "    pass"
   ]
  },
  {
   "cell_type": "code",
   "execution_count": 49,
   "metadata": {
    "collapsed": false
   },
   "outputs": [],
   "source": [
    "def check(weights, c):\n",
    "    eps = 1e-7\n",
    "    w = []\n",
    "    \n",
    "    for i in range(len(c)):\n",
    "        now = int(0)\n",
    "        \n",
    "        for j in range(len(c[i])):\n",
    "            now += weights[c[i][j]]\n",
    "        \n",
    "        if (now > 1 + eps):\n",
    "            return False\n",
    "        \n",
    "        w.append(now)\n",
    "    \n",
    "    return solve_bp_evaluation(w)\n",
    "\n",
    "    pass\n",
    "\n",
    "def solve_bp_search(weights: list):\n",
    "    if (len(weights) == 0):\n",
    "        return []\n",
    "    \n",
    "    ans = solve_bp_evaluation(weights)\n",
    "    c = []\n",
    "    \n",
    "    for i in range(len(weights)):\n",
    "        c.append([i])\n",
    "    \n",
    "    while (len(c) != ans):\n",
    "        st = False\n",
    "        for i in range(len(c)):\n",
    "            for j in range(i + 1, len(c)):\n",
    "                if (check(weights, c[:i] + [c[i] + c[j]] + c[i + 1:j] + c[j + 1:len(c)]) == ans):\n",
    "                    c = c[:i] + [c[i] + c[j]] + c[i + 1:j] + c[j + 1:len(c)]\n",
    "                    st = True\n",
    "                    break\n",
    "            \n",
    "            if (st):\n",
    "                break\n",
    "    \n",
    "    ans = [0] * len(weights)\n",
    "    \n",
    "    for i in range(len(c)):\n",
    "        for j in range(len(c[i])):\n",
    "            ans[c[i][j]] = i + 1\n",
    "            \n",
    "    return ans\n",
    "    \n",
    "    pass\n",
    "\n",
    "#solve_bp_search([0.65, 0.3, 0.1, 0.05, 0.9])"
   ]
  }
 ],
 "metadata": {
  "kernelspec": {
   "display_name": "Python 3",
   "language": "python",
   "name": "python3"
  },
  "language_info": {
   "codemirror_mode": {
    "name": "ipython",
    "version": 3
   },
   "file_extension": ".py",
   "mimetype": "text/x-python",
   "name": "python",
   "nbconvert_exporter": "python",
   "pygments_lexer": "ipython3",
   "version": "3.6.0"
  }
 },
 "nbformat": 4,
 "nbformat_minor": 0
}
