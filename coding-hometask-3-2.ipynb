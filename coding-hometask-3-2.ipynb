{
 "cells": [
  {
   "cell_type": "markdown",
   "metadata": {
    "collapsed": true
   },
   "source": [
    "## Задача 3-2. Задача TSP: нижняя оценка Гельда—Карпа.\n",
    "\n",
    "В этой задаче Вам предлагается релизовать алгоритм Гельда—Карпа для нижней оценки стоимости решения в задаче Euclidean TSP.\n",
    "\n",
    "Сделайте следующее:\n",
    "* Скачайте файл [`tsp-instances.zip`](https://github.com/dainiak/discrete-optimization-course/raw/master/tsp-instances.zip) и разархивируйте из него файлы со входами задачи TSP. Это в точности те же входные данные, что и в задании 3-1.\n",
    "* Реализуйте функцию `lower_bound_tsp`. При этом можно пользоваться каким-нибудь стандартным алгоритмом построения минимального остовного дерева из библиотеки [`networkx`](https://networkx.github.io/), входящей в состав дистрибутива Anaconda.\n",
    "* Запустите функцию `run_all()`, чтобы протестировать свой код, и напишите полученные, как следствия, верхние оценки погрешностей решений, которые были получены Вашими алгоритмами NN и NI при решении задания 3-1. Запишите свои выводы в 1-2 предложениях в последней ячейке ipynb-файла."
   ]
  },
  {
   "cell_type": "code",
   "execution_count": 9,
   "metadata": {
    "collapsed": false
   },
   "outputs": [],
   "source": [
    "from typing import List, Tuple\n",
    "from math import sqrt\n",
    "from itertools import combinations, islice\n",
    "import networkx as nx\n",
    "\n",
    "def read_tsp_instance(filename: str) -> List[Tuple[int,int]]:\n",
    "    with open(filename, 'r') as file:\n",
    "        coordinates = []\n",
    "        for line in file:\n",
    "            line = line.strip().lower()\n",
    "            if line.startswith('dimension'):\n",
    "                coordinates = [(0, 0)] * int(line.split()[-1])\n",
    "            tokens = line.split()\n",
    "            if len(tokens) == 3 and tokens[0].isdecimal():\n",
    "                tokens = line.split()\n",
    "                coordinates[int(tokens[0])-1] = tuple(map(float, tokens[1:]))\n",
    "        return coordinates\n",
    "\n",
    "\n",
    "def euclidean_distance(point1: Tuple[int,int], point2: Tuple[int,int]) -> float:\n",
    "    return sqrt((point1[0]-point2[0]) ** 2 + (point1[1]-point2[1]) ** 2)"
   ]
  },
  {
   "cell_type": "code",
   "execution_count": 113,
   "metadata": {
    "collapsed": false
   },
   "outputs": [],
   "source": [
    "def weight_tree(pot, vertex_coordinates, T):\n",
    "    result = 0\n",
    "    for i in range(len(T)):\n",
    "        result += pot[T[i][0]] + pot[T[i][1]] + euclidean_distance(vertex_coordinates[T[i][0]], vertex_coordinates[T[i][1]])\n",
    "\n",
    "    return result\n",
    "\n",
    "def lower_bound_tsp(vertex_coordinates: List[Tuple[int,int]]) -> float:\n",
    "    n = len(vertex_coordinates)\n",
    "    \n",
    "    alp = 35\n",
    "    pot = [0] * n\n",
    "    sum_pot = 0\n",
    "    \n",
    "    result = 0\n",
    "    \n",
    "    for it in range(20):\n",
    "        G = nx.Graph()\n",
    "        G.add_nodes_from(range(0, n))\n",
    "        for i in range(n):\n",
    "            for j in range(i + 1, n):\n",
    "                G.add_edge(i, j, weight=(euclidean_distance(vertex_coordinates[i], vertex_coordinates[j]) + pot[i] + pot[j]))\n",
    "        T = list(nx.minimum_spanning_edges(G, data=False))\n",
    "        \n",
    "        cnt = [0] * n\n",
    "        \n",
    "        for i in range(len(T)):\n",
    "            cnt[T[i][0]] += 1\n",
    "            cnt[T[i][1]] += 1\n",
    "        \n",
    "        result = max(result, weight_tree(pot, vertex_coordinates, T) - 2 * sum_pot)\n",
    "        #print(weight_tree(pot, vertex_coordinates, T) - 2 * sum_pot)\n",
    "        \n",
    "        minpot = 0\n",
    "        \n",
    "        for i in range(n):\n",
    "            delta = cnt[i] - 2\n",
    "            \n",
    "            cf = alp / (it + 1) * delta\n",
    "            pot[i] += cf\n",
    "            minpot = min(minpot, pot[i])\n",
    "            sum_pot += cf\n",
    "    \n",
    "        sum_pot -= n * minpot\n",
    "        \n",
    "        for i in range(n):\n",
    "            pot[i] -= minpot\n",
    "    \n",
    "    return result"
   ]
  },
  {
   "cell_type": "code",
   "execution_count": 115,
   "metadata": {
    "collapsed": true
   },
   "outputs": [],
   "source": [
    "import time\n",
    "from os.path import exists\n",
    "\n",
    "def run_all():\n",
    "    instance_filenames = ['d198.tsp', 'd493.tsp', 'd657.tsp', 'd2103.tsp', 'pr107.tsp', 'pr152.tsp', 'pr439.tsp']\n",
    "    for filename in instance_filenames:\n",
    "        if not exists(filename):\n",
    "            print('File not found: “{}”. Skipping this instance.'.format(filename))\n",
    "            continue\n",
    "        instance = read_tsp_instance(filename)\n",
    "        print('Instance {}…'.format(filename), end='')\n",
    "        time_start = time.monotonic()\n",
    "        bound = lower_bound_tsp(instance)\n",
    "        time_nn = time.monotonic()-time_start\n",
    "        print(' done in {:.2} seconds with lower bound {}'.format(time_nn, int(bound)))"
   ]
  },
  {
   "cell_type": "code",
   "execution_count": 116,
   "metadata": {
    "collapsed": false
   },
   "outputs": [
    {
     "name": "stdout",
     "output_type": "stream",
     "text": [
      "Instance d198.tsp… done in 7.1 seconds with lower bound 12379\n",
      "Instance d493.tsp… done in 4.9e+01 seconds with lower bound 32017\n",
      "Instance d657.tsp… done in 9e+01 seconds with lower bound 46403\n",
      "Instance d2103.tsp… done in 1.1e+03 seconds with lower bound 76892\n",
      "Instance pr107.tsp… done in 1.8 seconds with lower bound 36994\n",
      "Instance pr152.tsp… done in 3.9 seconds with lower bound 61243\n",
      "Instance pr439.tsp… done in 3.7e+01 seconds with lower bound 97041\n"
     ]
    }
   ],
   "source": [
    "run_all()"
   ]
  },
  {
   "cell_type": "markdown",
   "metadata": {},
   "source": [
    "Результаты верхних оценок:\n",
    "\n",
    "Solving instance d198.tsp… done in 0.22 seconds with tour length 18620 using NN and in 3.6 seconds with tour length 18052 using NI\n",
    "\n",
    "Solving instance d493.tsp… done in 1.3 seconds with tour length 43646 using NN and in 5.9e+01 seconds with tour length 41576 using NI\n",
    "\n",
    "Solving instance d657.tsp… done in 2.4 seconds with tour length 62176 using NN and in 1.4e+02 seconds with tour length 60195 using NI\n",
    "\n",
    "Solving instance d2103.tsp… done in 2.3e+01 seconds with tour length 87468 using NN and in 4.7e+03 seconds with tour length 86027 using NI\n",
    "\n",
    "Solving instance pr107.tsp… done in 0.064 seconds with tour length 46678 using NN and in 0.66 seconds with tour length 53211 using NI\n",
    "\n",
    "Solving instance pr152.tsp… done in 0.13 seconds with tour length 85702 using NN and in 1.8 seconds with tour length 86914 using NI\n",
    "\n",
    "Solving instance pr439.tsp… done in 1.1 seconds with tour length 131282 using NN and in 4.1e+01 seconds with tour length 132780 using NI\n"
   ]
  },
  {
   "cell_type": "markdown",
   "metadata": {},
   "source": [
    "## Выводы\n",
    "Как мы видим, результаты верхних оценок всегда не более чем в 1.5 раза хуже чем нижних, иногда это отношение даже достигает значения 1.13, что показывает что алгоритмы NI и NN работают достаточно хорошо для решения задачи TSP."
   ]
  }
 ],
 "metadata": {
  "kernelspec": {
   "display_name": "Python 3",
   "language": "python",
   "name": "python3"
  },
  "language_info": {
   "codemirror_mode": {
    "name": "ipython",
    "version": 3
   },
   "file_extension": ".py",
   "mimetype": "text/x-python",
   "name": "python",
   "nbconvert_exporter": "python",
   "pygments_lexer": "ipython3",
   "version": "3.6.0"
  }
 },
 "nbformat": 4,
 "nbformat_minor": 1
}
